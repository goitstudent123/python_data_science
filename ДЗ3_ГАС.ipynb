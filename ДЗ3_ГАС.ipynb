{
  "nbformat": 4,
  "nbformat_minor": 0,
  "metadata": {
    "colab": {
      "provenance": [],
      "include_colab_link": true
    },
    "kernelspec": {
      "name": "python3",
      "display_name": "Python 3"
    },
    "language_info": {
      "name": "python"
    }
  },
  "cells": [
    {
      "cell_type": "markdown",
      "metadata": {
        "id": "view-in-github",
        "colab_type": "text"
      },
      "source": [
        "<a href=\"https://colab.research.google.com/github/goitstudent123/python_data_science/blob/main/%D0%94%D0%973_%D0%93%D0%90%D0%A1.ipynb\" target=\"_parent\"><img src=\"https://colab.research.google.com/assets/colab-badge.svg\" alt=\"Open In Colab\"/></a>"
      ]
    },
    {
      "cell_type": "markdown",
      "source": [
        "\n",
        "\n",
        "Дано 4 точки: $M_0(0, 0, 0), M_1(1, \\frac{1}{3}, 0), M_2(0, 2, \\frac{1}{4}), M_3(\\frac{1}{2}, \\frac{1}{2}, 1)$.\n",
        "\n",
        "Також дано 3 вектори, які задають паралелепіпед із зазначеними точками:\n",
        "- $\\overline{a}=\\overline{M_0M_1}$\n",
        "- $\\overline{b}=\\overline{M_0M_2}$\n",
        "- $\\overline{c}=\\overline{M_0M_3}$\n",
        "\n",
        "Порахуй координати векторів через задані точки.  \n",
        "Порахуй об'єм, площу повної поверхні паралелепіпеда та кути між ребрами паралелепіпеда, координати решти вершин паралелепіпеда.\n",
        "\n"
      ],
      "metadata": {
        "id": "hcaEinFBN22V"
      }
    },
    {
      "cell_type": "markdown",
      "source": [
        "$\\overline{a} = ? = \\left (\\begin{array}{cc}\n",
        "1\\\\\n",
        "1/3\\\\\n",
        "0\n",
        "\\end{array}\\right)\n",
        "\\\\\n",
        "\\overline{b} = ? = \\left (\\begin{array}{cc}\n",
        "0\\\\\n",
        "2\\\\\n",
        "1/4\n",
        "\\end{array}\\right)\n",
        "\\\\\n",
        "\\overline{c} = ? = \\left (\\begin{array}{cc}\n",
        "0.5\\\\\n",
        "0.5\\\\\n",
        "1\n",
        "\\end{array}\\right)\n",
        "$"
      ],
      "metadata": {
        "id": "VAeOwSOewPuX"
      }
    },
    {
      "cell_type": "markdown",
      "source": [
        "$\n",
        "V = 1.92\\\\\n",
        "S = 10.5\\\\\n",
        "\\angle(a, b) = 71.71°\\\\\n",
        "\\angle(a, c) = 59.58°\\\\\n",
        "\\angle(b, c) = 58.91°\\\\\n",
        "M_4 = (1, \\frac{7}{3}, 1/4)\\\\\n",
        "M_5 = (\\frac{3}{2}, \\frac{5}{6},  1)\\\\\n",
        "M_6 = (\\frac{1}{2}, \\frac{5}{2}, \\frac{5}{4})\\\\\n",
        "M_7 = (\\frac{3}{2}, \\frac{17}{6}, \\frac{5}{4})\n",
        "$"
      ],
      "metadata": {
        "id": "SVtaqixdAuJP"
      }
    },
    {
      "cell_type": "code",
      "source": [
        "import numpy as np\n",
        "\n",
        "M0 = np.array([0, 0, 0])\n",
        "M1 = np.array([1, 1/3, 0])\n",
        "M2 = np.array([0, 2, 1/4])\n",
        "M3 = np.array([1/2, 1/2, 1])\n",
        "\n",
        "a = M1 - M0\n",
        "b = M2 - M0\n",
        "c = M3 - M0\n",
        "\n",
        "print(f\"a = {a}\")\n",
        "print(f\"b = {b}\")\n",
        "print(f\"c = {c}\")\n",
        "\n",
        "# V = |a · (b × c)|\n",
        "volume = np.abs(np.dot(a, np.cross(b, c)))\n",
        "print(f\"V = {volume}\")\n",
        "\n",
        "# area = 2(|a × b| + |b × c| + |c × a|)\n",
        "area = 2 * (np.linalg.norm(np.cross(a, b)) +\n",
        "            np.linalg.norm(np.cross(b, c)) +\n",
        "            np.linalg.norm(np.cross(c, a)))\n",
        "print(f\"S = {area}\")\n",
        "\n",
        "def angle_between(v1, v2):\n",
        "    cos_angle = np.dot(v1, v2) / (np.linalg.norm(v1) * np.linalg.norm(v2))\n",
        "    return np.degrees(np.arccos(np.clip(cos_angle, -1.0, 1.0)))  # захист від похибок\n",
        "\n",
        "angle_ab = angle_between(a, b)\n",
        "angle_bc = angle_between(b, c)\n",
        "angle_ca = angle_between(c, a)\n",
        "\n",
        "print(f\"angle(a,b): {angle_ab:.2f}\")\n",
        "print(f\"angle(b,c): {angle_bc:.2f}\")\n",
        "print(f\"angle(c,a): {angle_ca:.2f}\")\n",
        "\n",
        "M4 = M0 + a + b     # M1 + b\n",
        "M5 = M0 + a + c     # M1 + c\n",
        "M6 = M0 + b + c     # M2 + c\n",
        "M7 = M0 + a + b + c # M1 + b + c\n",
        "\n",
        "print(\"Additional coordinates:\")\n",
        "print(\"M4:\", M4)\n",
        "print(\"M5:\", M5)\n",
        "print(\"M6:\", M6)\n",
        "print(\"M7:\", M7)\n",
        "\n",
        "\n",
        "# just because i am programmer, not math guy )\n",
        "\n",
        "from fractions import Fraction\n",
        "from typing import Tuple, Union\n",
        "\n",
        "def to_fraction_tuple(value: Union[float, int], max_denominator: int = 1000) -> Tuple[int, int]:\n",
        "    fraction = Fraction(value).limit_denominator(max_denominator)\n",
        "    return fraction.numerator, fraction.denominator\n",
        "\n",
        "def format_vector_as_fractions(v: np.ndarray) -> str:\n",
        "    return \"(\" + \", \".join([f\"{n}/{d}\" if d != 1 else str(n)\n",
        "                            for n, d in [to_fraction_tuple(x) for x in v]]) + \")\"\n",
        "print(\"\\n\\n\\n\\nFun stuff:\")\n",
        "print(f\"a = {format_vector_as_fractions(a)}\")\n",
        "print(f\"b = {format_vector_as_fractions(b)}\")\n",
        "print(f\"c = {format_vector_as_fractions(c)}\")\n",
        "print(\"M4:\", format_vector_as_fractions(M4))\n",
        "print(\"M5:\", format_vector_as_fractions(M5))\n",
        "print(\"M6:\", format_vector_as_fractions(M6))\n",
        "print(\"M7:\", format_vector_as_fractions(M7))\n"
      ],
      "metadata": {
        "colab": {
          "base_uri": "https://localhost:8080/"
        },
        "id": "dj0ICetRsGG0",
        "outputId": "98cdbc2c-7135-4fae-8a71-f9e2a7745006"
      },
      "execution_count": 13,
      "outputs": [
        {
          "output_type": "stream",
          "name": "stdout",
          "text": [
            "a = [1.         0.33333333 0.        ]\n",
            "b = [0.   2.   0.25]\n",
            "c = [0.5 0.5 1. ]\n",
            "V = 1.9166666666666667\n",
            "S = 10.50300259735527\n",
            "angle(a,b): 71.71\n",
            "angle(b,c): 59.58\n",
            "angle(c,a): 58.91\n",
            "Additional coordinates:\n",
            "M4: [1.         2.33333333 0.25      ]\n",
            "M5: [1.5        0.83333333 1.        ]\n",
            "M6: [0.5  2.5  1.25]\n",
            "M7: [1.5        2.83333333 1.25      ]\n",
            "\n",
            "\n",
            "\n",
            "\n",
            "Fun stuff:\n",
            "a = (1, 1/3, 0)\n",
            "b = (0, 2, 1/4)\n",
            "c = (1/2, 1/2, 1)\n",
            "M4: (1, 7/3, 1/4)\n",
            "M5: (3/2, 5/6, 1)\n",
            "M6: (1/2, 5/2, 5/4)\n",
            "M7: (3/2, 17/6, 5/4)\n"
          ]
        }
      ]
    },
    {
      "cell_type": "markdown",
      "source": [],
      "metadata": {
        "id": "j-BftieoCHTu"
      }
    }
  ]
}