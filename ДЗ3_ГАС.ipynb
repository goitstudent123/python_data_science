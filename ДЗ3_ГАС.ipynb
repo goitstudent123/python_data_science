{
  "nbformat": 4,
  "nbformat_minor": 0,
  "metadata": {
    "colab": {
      "provenance": [],
      "include_colab_link": true
    },
    "kernelspec": {
      "name": "python3",
      "display_name": "Python 3"
    },
    "language_info": {
      "name": "python"
    }
  },
  "cells": [
    {
      "cell_type": "markdown",
      "metadata": {
        "id": "view-in-github",
        "colab_type": "text"
      },
      "source": [
        "<a href=\"https://colab.research.google.com/github/goitstudent123/python_data_science/blob/main/%D0%94%D0%973_%D0%93%D0%90%D0%A1.ipynb\" target=\"_parent\"><img src=\"https://colab.research.google.com/assets/colab-badge.svg\" alt=\"Open In Colab\"/></a>"
      ]
    },
    {
      "cell_type": "markdown",
      "source": [
        "\n",
        "\n",
        "Дано 4 точки: $M_0(0, 0, 0), M_1(1, \\frac{1}{3}, 0), M_2(0, 2, \\frac{1}{4}), M_3(\\frac{1}{2}, \\frac{1}{2}, 1)$.\n",
        "\n",
        "Також дано 3 вектори, які задають паралелепіпед із зазначеними точками:\n",
        "- $\\overline{a}=\\overline{M_0M_1}$\n",
        "- $\\overline{b}=\\overline{M_0M_2}$\n",
        "- $\\overline{c}=\\overline{M_0M_3}$\n",
        "\n",
        "Порахуй координати векторів через задані точки.  \n",
        "Порахуй об'єм, площу повної поверхні паралелепіпеда та кути між ребрами паралелепіпеда, координати решти вершин паралелепіпеда.\n",
        "\n"
      ],
      "metadata": {
        "id": "hcaEinFBN22V"
      }
    },
    {
      "cell_type": "markdown",
      "source": [
        "$\\overline{a} = ? = \\left (\\begin{array}{cc}\n",
        "?\\\\\n",
        "?\\\\\n",
        "?\n",
        "\\end{array}\\right)\n",
        "\\\\\n",
        "\\overline{b} = ? = \\left (\\begin{array}{cc}\n",
        "?\\\\\n",
        "?\\\\\n",
        "?\n",
        "\\end{array}\\right)\n",
        "\\\\\n",
        "\\overline{c} = ? = \\left (\\begin{array}{cc}\n",
        "?\\\\\n",
        "?\\\\\n",
        "?\n",
        "\\end{array}\\right)\n",
        "$"
      ],
      "metadata": {
        "id": "sktokwYqSqhu"
      }
    },
    {
      "cell_type": "markdown",
      "source": [
        "$\n",
        "V = ?\\\\\n",
        "S = ?\\\\\n",
        "\\angle(a, b) = ?\\\\\n",
        "\\angle(a, c) = ?\\\\\n",
        "\\angle(b, c) = ?\\\\\n",
        "M_4 = ?\\\\\n",
        "M_5 = ?\\\\\n",
        "M_6 = ?\\\\\n",
        "M_7 = ?\n",
        "$"
      ],
      "metadata": {
        "id": "SVtaqixdAuJP"
      }
    },
    {
      "cell_type": "code",
      "source": [
        "import numpy as np\n",
        "\n",
        "M0 = np.array([0, 0, 0])\n",
        "M1 = np.array([1, 1/3, 0])\n",
        "M2 = np.array([0, 2, 1/4])\n",
        "M3 = np.array([1/2, 1/2, 1])\n",
        "\n",
        "a = M1 - M0\n",
        "b = M2 - M0\n",
        "c = M3 - M0\n",
        "\n",
        "print(f\"a = {a}\")\n",
        "print(f\"b = {b}\")\n",
        "print(f\"c = {c}\")\n",
        "\n",
        "# V = |a · (b × c)|\n",
        "volume = np.abs(np.dot(a, np.cross(b, c)))\n",
        "print(f\"V = {volume}\")\n",
        "\n",
        "# area = 2(|a × b| + |b × c| + |c × a|)\n",
        "area = 2 * (np.linalg.norm(np.cross(a, b)) +\n",
        "            np.linalg.norm(np.cross(b, c)) +\n",
        "            np.linalg.norm(np.cross(c, a)))\n",
        "print(f\"area = {area}\")\n",
        "\n",
        "def angle_between(v1, v2):\n",
        "    cos_angle = np.dot(v1, v2) / (np.linalg.norm(v1) * np.linalg.norm(v2))\n",
        "    return np.degrees(np.arccos(np.clip(cos_angle, -1.0, 1.0)))  # захист від похибок\n",
        "\n",
        "angle_ab = angle_between(a, b)\n",
        "angle_bc = angle_between(b, c)\n",
        "angle_ca = angle_between(c, a)\n",
        "\n",
        "print(f\"angle ab: {angle_ab:.2f}°\")\n",
        "print(f\"angle bc: {angle_bc:.2f}°\")\n",
        "print(f\"angle ca: {angle_ca:.2f}°\")\n",
        "\n",
        "M4 = M0 + a + b     # M1 + b\n",
        "M5 = M0 + a + c     # M1 + c\n",
        "M6 = M0 + b + c     # M2 + c\n",
        "M7 = M0 + a + b + c # M1 + b + c\n",
        "\n",
        "print(\"Additional coordinates:\")\n",
        "print(\"M4:\", M4)\n",
        "print(\"M5:\", M5)\n",
        "print(\"M6:\", M6)\n",
        "print(\"M7:\", M7)\n"
      ],
      "metadata": {
        "id": "dj0ICetRsGG0"
      },
      "execution_count": null,
      "outputs": []
    },
    {
      "cell_type": "markdown",
      "source": [],
      "metadata": {
        "id": "j-BftieoCHTu"
      }
    }
  ]
}