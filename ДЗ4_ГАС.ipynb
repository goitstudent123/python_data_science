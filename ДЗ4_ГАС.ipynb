{
  "nbformat": 4,
  "nbformat_minor": 0,
  "metadata": {
    "colab": {
      "provenance": [],
      "include_colab_link": true
    },
    "kernelspec": {
      "name": "python3",
      "display_name": "Python 3"
    },
    "language_info": {
      "name": "python"
    }
  },
  "cells": [
    {
      "cell_type": "markdown",
      "metadata": {
        "id": "view-in-github",
        "colab_type": "text"
      },
      "source": [
        "<a href=\"https://colab.research.google.com/github/goitstudent123/python_data_science/blob/main/%D0%94%D0%974_%D0%93%D0%90%D0%A1.ipynb\" target=\"_parent\"><img src=\"https://colab.research.google.com/assets/colab-badge.svg\" alt=\"Open In Colab\"/></a>"
      ]
    },
    {
      "cell_type": "markdown",
      "source": [
        "Вам можуть знадобитись такі символи:\n",
        "\n",
        "\n",
        "Символ | Код\n",
        "--- | ---\n",
        "$\\wedge$ | \\\\$\\wedge\\\\$\n",
        "$\\vee$ | \\\\$\\vee\\\\$\n",
        "$\\neg$ | \\\\$\\neg\\\\$\n",
        "$\\rightarrow$ | \\\\$\\rightarrow\\\\$\n",
        "$\\oplus$ | \\\\$\\oplus\\\\$\n",
        "$\\equiv$ | \\\\$\\equiv\\\\$\n",
        "$\\Leftrightarrow$ | \\\\$\\Leftrightarrow\\\\$"
      ],
      "metadata": {
        "id": "xJ6EpMRR0Ko1"
      }
    },
    {
      "cell_type": "markdown",
      "source": [
        "## Завдання 1\n",
        "Запишіть наступні висловлювання у математичній формі та складіть для них таблиці істиності:"
      ],
      "metadata": {
        "id": "yKUL8_WRy1WO"
      }
    },
    {
      "cell_type": "markdown",
      "source": [
        "a) “Морті прийде на вечірку (A) тоді й тільки тоді, коли Джесіка прийде на вечірку(B), а Рік не прийде(C)”.\n",
        "\n",
        "$$\n",
        "\\begin{aligned}\n",
        "A &\\text{ — Морті прийде на вечірку} \\\\\n",
        "B &\\text{ — Джесіка прийде на вечірку} \\\\\n",
        "C &\\text{ — Рік прийде на вечірку} \\\\\n",
        "X &= A \\leftrightarrow (B \\land \\lnot C)\n",
        "\\end{aligned}\n",
        "$$\n",
        "\n",
        "$$\n",
        "\\begin{array}{|c|c|c||c|}\n",
        "\\hline\n",
        "A & B & C & X \\\\\n",
        "\\hline\n",
        "0 & 0 & 0 & 1 \\\\\n",
        "0 & 0 & 1 & 1 \\\\\n",
        "0 & 1 & 0 & 0 \\\\\n",
        "0 & 1 & 1 & 1 \\\\\n",
        "1 & 0 & 0 & 0 \\\\\n",
        "1 & 0 & 1 & 0 \\\\\n",
        "1 & 1 & 0 & 1 \\\\\n",
        "1 & 1 & 1 & 0 \\\\\n",
        "\\hline\n",
        "\\end{array}\n",
        "$$"
      ],
      "metadata": {
        "id": "O0k_O_SOy2eP"
      }
    },
    {
      "cell_type": "markdown",
      "source": [
        "b) “Якщо ми успішно виконаємо домашнє завдання з математичної логіки (A), то ми отримаємо заліковий бал (B) або візьмемо участь у науковому семінарі (C), водночас якщо ми візьмемо участь у науковому семінарі і отримаємо заліковий бал, то достроково складемо іспит з математичної логіки (D)”.\n",
        "\n",
        "$$\n",
        "\\begin{aligned}\n",
        "A &\\text{ — Ми успішно виконаємо домашнє завдання з математичної логіки} \\\\\n",
        "B &\\text{ — Ми отримаємо заліковий бал} \\\\\n",
        "C &\\text{ — Ми візьмемо участь у науковому семінарі} \\\\\n",
        "D &\\text{ — Ми достроково складемо іспит з математичної логіки} \\\\\n",
        "X &= (A \\rightarrow (B \\lor C)) \\land ((C \\land B) \\rightarrow D)\n",
        "\\end{aligned}\n",
        "$$\n",
        "\n",
        "$$\n",
        "\\begin{array}{|c|c|c|c||c|}\n",
        "\\hline\n",
        "A & B & C & D & X \\\\\n",
        "\\hline\n",
        "0 & 0 & 0 & 0 & 1 \\\\\n",
        "0 & 0 & 0 & 1 & 1 \\\\\n",
        "0 & 0 & 1 & 0 & 1 \\\\\n",
        "0 & 0 & 1 & 1 & 1 \\\\\n",
        "0 & 1 & 0 & 0 & 1 \\\\\n",
        "0 & 1 & 0 & 1 & 1 \\\\\n",
        "0 & 1 & 1 & 0 & 0 \\\\\n",
        "0 & 1 & 1 & 1 & 1 \\\\\n",
        "1 & 0 & 0 & 0 & 0 \\\\\n",
        "1 & 0 & 0 & 1 & 0 \\\\\n",
        "1 & 0 & 1 & 0 & 1 \\\\\n",
        "1 & 0 & 1 & 1 & 1 \\\\\n",
        "1 & 1 & 0 & 0 & 1 \\\\\n",
        "1 & 1 & 0 & 1 & 1 \\\\\n",
        "1 & 1 & 1 & 0 & 0 \\\\\n",
        "1 & 1 & 1 & 1 & 1 \\\\\n",
        "\\hline\n",
        "\\end{array}\n",
        "$$\n"
      ],
      "metadata": {
        "id": "YO3StJEgy2w5"
      }
    },
    {
      "cell_type": "markdown",
      "source": [
        "## Завдання 2\n",
        "Із 40 програмістів 18 володіють мовою Python, 19 — мовою С++, 21 — мовою Java. Відомо, що 10 програмістів знають одночасно Python і С++, 7 — Python і Java, 8 — C++ і Java. Троє програмістів не володіють жодною із мов Python, С++, Java. Знайти кількість програмістів, які одночасно знають усі три мови програмування."
      ],
      "metadata": {
        "id": "7n3tjLJey3Ho"
      }
    },
    {
      "cell_type": "markdown",
      "source": [
        "$$\n",
        "\\textbf{Задача.} \\\\\n",
        "\\text{Із 40 програмістів:} \\\\\n",
        "|P| = 18 \\quad \\text{(володіють Python)} \\\\\n",
        "|C| = 19 \\quad \\text{(володіють C++)} \\\\\n",
        "|J| = 21 \\quad \\text{(володіють Java)} \\\\\n",
        "|P \\cap C| = 10 \\\\\n",
        "|P \\cap J| = 7 \\\\\n",
        "|C \\cap J| = 8 \\\\\n",
        "\\text{3 програмісти не володіють жодною з мов.}\n",
        "$$\n",
        "\n",
        "$$\n",
        "\\text{Потрібно знайти:} \\quad x = |P \\cap C \\cap J|\n",
        "$$"
      ],
      "metadata": {
        "id": "NE6dRJKmy7za"
      }
    },
    {
      "cell_type": "code",
      "source": [
        "total = 40\n",
        "nothing = 3\n",
        "known = total - nothing  # 37\n",
        "\n",
        "python = 18\n",
        "cpp = 19\n",
        "java = 21\n",
        "\n",
        "py_cpp = 10\n",
        "py_java = 7\n",
        "cpp_java = 8"
      ],
      "metadata": {
        "id": "lcpcW4mqmhPH"
      },
      "execution_count": 1,
      "outputs": []
    },
    {
      "cell_type": "markdown",
      "source": [
        "$$\n",
        "\\textbf{Розв'язання:} \\\\\n",
        "\\text{Загальна кількість, що знають хоча б одну мову:} \\\\\n",
        "|P \\cup C \\cup J| = 40 - 3 = 37\n",
        "$$\n",
        "\n",
        "$$\n",
        "\\text{Формула включень-виключень:} \\\\\n",
        "|P \\cup C \\cup J| = |P| + |C| + |J| - |P \\cap C| - |P \\cap J| - |C \\cap J| + |P \\cap C \\cap J|\n",
        "$$\n",
        "\n",
        "$$\n",
        "37 = 18 + 19 + 21 - 10 - 7 - 8 + x\n",
        "$$\n",
        "\n",
        "$$\n",
        "37 = 58 - 25 + x = 33 + x\n",
        "\\Rightarrow x = 37 - 33 = \\boxed{4}\n",
        "$$"
      ],
      "metadata": {
        "id": "oBMLGQDnmgJG"
      }
    },
    {
      "cell_type": "code",
      "source": [
        "union_without_triple = python + cpp + java - py_cpp - py_java - cpp_java\n",
        "triple = known - union_without_triple\n",
        "print(triple)"
      ],
      "metadata": {
        "id": "qkgHXb9YmXim",
        "outputId": "fd09e5d2-239c-4e6f-8009-0d2ce2941a1c",
        "colab": {
          "base_uri": "https://localhost:8080/"
        }
      },
      "execution_count": 2,
      "outputs": [
        {
          "output_type": "stream",
          "name": "stdout",
          "text": [
            "4\n"
          ]
        }
      ]
    }
  ]
}